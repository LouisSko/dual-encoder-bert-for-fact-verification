{
 "cells": [
  {
   "cell_type": "code",
   "execution_count": 1,
   "id": "2ea310b6-bddd-4644-9da6-4e180fead493",
   "metadata": {
    "tags": []
   },
   "outputs": [],
   "source": [
    "from demo import retrieve_articles"
   ]
  },
  {
   "cell_type": "code",
   "execution_count": 2,
   "id": "0e47bf45-bca2-4bc4-96b1-709f4ceffae1",
   "metadata": {
    "tags": []
   },
   "outputs": [],
   "source": [
    "claim = \"\""
   ]
  },
  {
   "cell_type": "code",
   "execution_count": null,
   "id": "43dceffe-1cfe-4e94-bfb6-88f1290979ec",
   "metadata": {
    "tags": []
   },
   "outputs": [],
   "source": [
    "retrieve_articles(claim, top_k=3)"
   ]
  },
  {
   "cell_type": "code",
   "execution_count": null,
   "id": "ca65f191-c157-4338-b3d7-21ad4666ccd2",
   "metadata": {},
   "outputs": [],
   "source": []
  }
 ],
 "metadata": {
  "kernelspec": {
   "display_name": "nlp_kernel new",
   "language": "python",
   "name": "nlp_env"
  },
  "language_info": {
   "codemirror_mode": {
    "name": "ipython",
    "version": 3
   },
   "file_extension": ".py",
   "mimetype": "text/x-python",
   "name": "python",
   "nbconvert_exporter": "python",
   "pygments_lexer": "ipython3",
   "version": "3.9.7"
  }
 },
 "nbformat": 4,
 "nbformat_minor": 5
}
